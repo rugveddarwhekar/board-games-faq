{
  "cells": [
    {
      "cell_type": "markdown",
      "metadata": {
        "id": "view-in-github",
        "colab_type": "text"
      },
      "source": [
        "<a href=\"https://colab.research.google.com/github/rugveddarwhekar/board-games-faq/blob/main/BoardGames_FAQ.ipynb\" target=\"_parent\"><img src=\"https://colab.research.google.com/assets/colab-badge.svg\" alt=\"Open In Colab\"/></a>"
      ]
    },
    {
      "cell_type": "markdown",
      "source": [
        "# Board Game FAQ Chat App\n",
        "\n",
        "This project demonstrates how to build a smart chatbot for board games using a Large Language Model (LLM) and implement Retrieval Augmented Generation (RAG) with the LangChain framework. The chatbot reads rulebooks and leverages Google's latest language model namely Google Gemini 1.5 Flash to provide accurate answers to questions about the games.\n",
        "\n",
        "---\n",
        "\n",
        "This application currently supports the following games:\n",
        "\n",
        "\n",
        "* Catan base game & 5-6 player expansion\n",
        "* Codenames\n",
        "* Pandemic\n",
        "* Monopoly\n",
        "* Ticket to Ride base game & expansions\n"
      ],
      "metadata": {
        "id": "3sxhylgFon1y"
      }
    },
    {
      "cell_type": "markdown",
      "source": [
        "## Project Setup"
      ],
      "metadata": {
        "id": "glC-Grhso55Z"
      }
    },
    {
      "cell_type": "markdown",
      "source": [
        "### Install dependencies"
      ],
      "metadata": {
        "id": "uDKDXVEZUIRc"
      }
    },
    {
      "cell_type": "code",
      "source": [
        "!pip install -q langchain google-search chromadb pypdf unstructured langchain-community langchain-google-genai"
      ],
      "outputs": [],
      "execution_count": 45,
      "metadata": {
        "id": "9Z4RSKSDUIRh"
      }
    },
    {
      "cell_type": "markdown",
      "source": [
        "### Import Libraries"
      ],
      "metadata": {
        "id": "YUUOgMzlUIRi"
      }
    },
    {
      "cell_type": "code",
      "source": [
        "import os\n",
        "from langchain.document_loaders import PyPDFLoader\n",
        "from langchain.text_splitter import RecursiveCharacterTextSplitter\n",
        "from langchain.vectorstores import Chroma\n",
        "from langchain.embeddings import GooglePalmEmbeddings\n",
        "from langchain.llms import GooglePalm\n",
        "from langchain.chains import RetrievalQA\n",
        "from langchain.document_loaders import UnstructuredFileLoader\n",
        "from langchain import PromptTemplate\n",
        "from langchain.chains.question_answering import load_qa_chain\n",
        "from langchain.chains import RetrievalQA\n",
        "from google.colab import userdata\n",
        "import google.generativeai as genai\n",
        "from langchain_google_genai import GoogleGenerativeAIEmbeddings\n",
        "from langchain_google_genai import ChatGoogleGenerativeAI\n",
        "from IPython.display import display\n",
        "from IPython.display import Markdown\n",
        "import textwrap"
      ],
      "outputs": [],
      "execution_count": 46,
      "metadata": {
        "id": "OXFhy6j8UIRj"
      }
    },
    {
      "cell_type": "markdown",
      "source": [
        "### Setup Gemini API"
      ],
      "metadata": {
        "id": "khujTW7_o2lz"
      }
    },
    {
      "cell_type": "code",
      "source": [
        "GOOGLE_API_KEY = userdata.get(\"GEMINI_API_KEY\")\n",
        "genai.configure(api_key=GOOGLE_API_KEY)"
      ],
      "metadata": {
        "id": "Q_lzfnTaZhtN"
      },
      "execution_count": 47,
      "outputs": []
    },
    {
      "cell_type": "markdown",
      "source": [
        "## Load Rulebook PDF Files"
      ],
      "metadata": {
        "id": "jn5hufSlUIRj"
      }
    },
    {
      "cell_type": "code",
      "source": [
        "# Setup the directory where files are stored\n",
        "pdf_directory = \"/content/board_games\"\n",
        "\n",
        "# Create a list to store the PDFs\n",
        "documents = []\n",
        "\n",
        "# Iterate through each file in the directory\n",
        "for filename in os.listdir(pdf_directory):\n",
        "    if filename.endswith(\".pdf\"):\n",
        "        filepath = os.path.join(pdf_directory, filename)\n",
        "        loader = PyPDFLoader(filepath)\n",
        "        documents.extend(loader.load())\n",
        "\n",
        "# Split the documents into smaller chunks for efficient processing\n",
        "text_splitter = RecursiveCharacterTextSplitter(chunk_size=6000, chunk_overlap=750)\n",
        "docs = text_splitter.split_documents(documents)\n",
        "\n",
        "# Create a Chroma vectorstore for efficient document retrieval\n",
        "embeddings = GoogleGenerativeAIEmbeddings(model=\"models/embedding-001\", google_api_key=GOOGLE_API_KEY)\n",
        "vectordb = Chroma.from_documents(docs, embeddings)"
      ],
      "outputs": [
        {
          "output_type": "stream",
          "name": "stderr",
          "text": [
            "WARNING:pypdf._reader:Ignoring wrong pointing object 8 0 (offset 0)\n"
          ]
        }
      ],
      "execution_count": 67,
      "metadata": {
        "colab": {
          "base_uri": "https://localhost:8080/"
        },
        "id": "QZeDzeXLUIRj",
        "outputId": "d387b43c-865e-464e-9107-c14469260b99"
      }
    },
    {
      "cell_type": "markdown",
      "source": [
        "## Set Up the LLM and RetrievalQA Chain"
      ],
      "metadata": {
        "id": "aCVe5-n9UIRk"
      }
    },
    {
      "cell_type": "code",
      "source": [
        "# Initialize the Google Gemini 1.5 Flash model\n",
        "model = ChatGoogleGenerativeAI(model=\"gemini-1.5-flash\", google_api_key=GOOGLE_API_KEY, temperature=0.2)\n",
        "\n",
        "# Get user input and generate a response\n",
        "template = \"\"\"Use the following pieces of context to answer the question at the end. If you don't know the answer, just mention that you we do not support this currently and do no try to make up an answer and mention that we may support it in the future. Always say \"Thanks for asking\" at the end of the answer.\n",
        "{context}\n",
        "Question: {question}\n",
        "Answer:\"\"\"\n",
        "\n",
        "QA_CHAIN_PROMPT = PromptTemplate.from_template(template)\n",
        "qa_chain = RetrievalQA.from_chain_type(\n",
        "    model,\n",
        "    retriever=vectordb.as_retriever(search_kwargs={\"k\": 5}),\n",
        "    return_source_documents=True,\n",
        "    chain_type_kwargs={\"prompt\": QA_CHAIN_PROMPT}\n",
        ")"
      ],
      "outputs": [],
      "execution_count": 68,
      "metadata": {
        "id": "Gm0FG8ggUIRl"
      }
    },
    {
      "cell_type": "markdown",
      "source": [
        "## Questions\n",
        "\n",
        "Here we will query some sample questions.    \n",
        "**Note**: Make sure to include the name of the board game since certain terms maybe common to multiple board games."
      ],
      "metadata": {
        "id": "m4-J5UcLqD-_"
      }
    },
    {
      "cell_type": "code",
      "source": [
        "query = \"How to get out of jail in monopoly?\"\n",
        "result = qa_chain({\"query\": query})\n",
        "Markdown(result[\"result\"])"
      ],
      "metadata": {
        "colab": {
          "base_uri": "https://localhost:8080/",
          "height": 217
        },
        "id": "9LsRj9XwmO4d",
        "outputId": "54c72cf3-cb7b-400e-a24a-77e9862727f7"
      },
      "execution_count": 60,
      "outputs": [
        {
          "output_type": "execute_result",
          "data": {
            "text/plain": [
              "<IPython.core.display.Markdown object>"
            ],
            "text/markdown": "You can get out of jail in Monopoly by:\n\n1. **Throwing doubles on any of your next three turns:** If you succeed, you immediately move forward the number of spaces shown by your doubles throw. You do not get another turn.\n2. **Using the \"Get Out of Jail Free\" card:** If you have one, you can play it to get out of jail.\n3. **Purchasing the \"Get Out of Jail Free\" card from another player:** You can buy it from another player and play it to get out of jail.\n4. **Paying a fine of $50:** You can pay this fine before you roll the dice on either of your next two turns.\n\nIf you do not throw doubles by your third turn, you must pay the $50 fine. You then get out of jail and immediately move forward the number of spaces shown by your throw.\n\nThanks for asking. \n"
          },
          "metadata": {},
          "execution_count": 60
        }
      ]
    },
    {
      "cell_type": "code",
      "source": [
        "query = \"What is the maximum number of cards a player can have in their hand in Pandemic?\"\n",
        "result = qa_chain({\"query\": query})\n",
        "Markdown(result[\"result\"])"
      ],
      "metadata": {
        "colab": {
          "base_uri": "https://localhost:8080/",
          "height": 69
        },
        "id": "LHeVyR_Um18N",
        "outputId": "724666d5-273b-4e85-cad5-0fce949d8d10"
      },
      "execution_count": 61,
      "outputs": [
        {
          "output_type": "execute_result",
          "data": {
            "text/plain": [
              "<IPython.core.display.Markdown object>"
            ],
            "text/markdown": "The maximum number of cards a player can have in their hand in Pandemic is **7**. \n\nThanks for asking. \n"
          },
          "metadata": {},
          "execution_count": 61
        }
      ]
    },
    {
      "cell_type": "code",
      "source": [
        "query = \"How many destination cards do you get to keep in Ticket to Ride?\"\n",
        "result = qa_chain({\"query\": query})\n",
        "Markdown(result[\"result\"])"
      ],
      "metadata": {
        "colab": {
          "base_uri": "https://localhost:8080/",
          "height": 214
        },
        "id": "35WYdAI7m3bI",
        "outputId": "dab69fa9-959a-405d-829f-7db1a56ecdf8"
      },
      "execution_count": 62,
      "outputs": [
        {
          "output_type": "execute_result",
          "data": {
            "text/plain": [
              "<IPython.core.display.Markdown object>"
            ],
            "text/markdown": "The number of destination cards you must keep varies depending on the game you are playing. Here are the rules for each version:\n\n* **USA:** You must keep at least 2 destination cards out of the 3 you are dealt at the start of the game. You can keep all 3 if you wish.\n* **USA + 1910 Expansion:**  You must keep at least 2 destination cards out of the 3 you are dealt at the start of the game. You can keep all 3 if you wish.\n* **Europe:** You must keep at least 2 destination cards out of the 4 you are dealt at the start of the game (3 regular and 1 long route card).\n* **Europe + 1912 Expansion:**  You must keep at least 2 destination cards out of the 4 you are dealt at the start of the game (3 regular and 1 long route card).  \n* **Mega Europe:** You must keep at least 2 destination cards if you kept a long route card, or 3 if you didn't. You are dealt 5 destination cards at the start of the game.\n* **Big Cities of Europe:** You must keep at least 2 destination cards out of the 5 you are dealt at the start of the game.\n* **Mega Game:** You must keep at least 3 destination cards out of the 5 you are dealt at the start of the game.\n\nThanks for asking! \n"
          },
          "metadata": {},
          "execution_count": 62
        }
      ]
    },
    {
      "cell_type": "code",
      "source": [
        "query = \"How does the Star Wars game begin?\"\n",
        "result = qa_chain({\"query\": query})\n",
        "Markdown(result[\"result\"])"
      ],
      "metadata": {
        "colab": {
          "base_uri": "https://localhost:8080/",
          "height": 63
        },
        "id": "gmGEQVklm5Bp",
        "outputId": "e38954b7-30cd-4f8b-a954-430e4019dcb2"
      },
      "execution_count": 70,
      "outputs": [
        {
          "output_type": "execute_result",
          "data": {
            "text/plain": [
              "<IPython.core.display.Markdown object>"
            ],
            "text/markdown": "The provided text is about the game Settlers of Catan, not Star Wars. We do not support answering questions about Star Wars at this time. We may support this in the future. Thanks for asking. \n"
          },
          "metadata": {},
          "execution_count": 70
        }
      ]
    }
  ],
  "metadata": {
    "colab": {
      "provenance": [],
      "include_colab_link": true
    },
    "kernelspec": {
      "display_name": "Python 3",
      "name": "python3"
    }
  },
  "nbformat": 4,
  "nbformat_minor": 0
}